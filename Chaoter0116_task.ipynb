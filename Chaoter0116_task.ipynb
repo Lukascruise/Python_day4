{
 "cells": [
  {
   "cell_type": "markdown",
   "metadata": {
    "id": "BX7SgOeWu86I"
   },
   "source": [
    "안녕하세요. 수강생 여러분~! \n",
    "\n",
    "다시 돌아온 조금 더 성장할 기 ! 회 ! \n",
    "\n",
    "Chapter01 ~ 16의 수업 내용을 바탕으로 아래 문제를 풀어주시면 됩니다 !\n",
    "\n",
    "지금까지 잘 해오셨으니까, 총 복습한다고 생각하시고 한번 도전해보세요 !!!\n",
    "\n",
    "차근 차근 문제와 요구사항을 읽고 작성해보세요.\n",
    "\n",
    "<br>\n",
    "\n",
    "\n",
    "[**답변 입력 방법**]\n",
    "\n",
    "문제 아래에 있는 코드 입력창에 정답코드를 작성하신 후  __▷ 버튼을 클릭해 코드를 실행__ 해보세요<br>"
   ]
  },
  {
   "cell_type": "markdown",
   "metadata": {},
   "source": [
    "---"
   ]
  },
  {
   "cell_type": "markdown",
   "metadata": {},
   "source": [
    "#### 프로젝트: 붕어빵 자동 판매 시스템\n",
    "\n",
    "\n",
    "당신은 붕어빵 가게의 주인입니다. \n",
    "\n",
    "손님들이 붕어빵을 주문하면 이를 자동으로 처리하고, 재고를 관리하는 시스템을 만들고자 합니다. \n",
    "\n",
    "또한, 관리자 모드를 통해 재고를 추가할 수 있는 기능을 구현해야 합니다.\n"
   ]
  },
  {
   "cell_type": "markdown",
   "metadata": {},
   "source": [
    "__[문제 1: 붕어빵 재고 확인]__\n",
    "\n",
    "붕어빵 가게의 현재 재고를 확인하는 기능을 구현하세요.\n",
    "\n",
    "요구사항:\n",
    "- 현재 붕어빵의 재고를 딕셔너리로 관리합니다.\n",
    "- 딕셔너리에는 붕어빵의 종류와 각각의 재고 개수가 저장됩니다.\n",
    "- 현재 재고를 화면에 출력하세요.\n",
    "\n",
    "붕어빵 재고\n",
    "- 팥붕어빵 : 10개\n",
    "- 슈크림붕어빵 : 8개\n",
    "- 초코붕어빵 : 5개"
   ]
  },
  {
   "cell_type": "code",
   "execution_count": null,
   "metadata": {},
   "outputs": [],
   "source": [
    "# 붕어빵 재고를 딕셔너리로 관리\n",
    "fish_bread = {\n",
    "    \"팥붕어빵\": 10,\n",
    "    \"슈크림붕어빵\": 8,\n",
    "    \"초코붕어빵\": 5\n",
    "}\n",
    "\n",
    "# 재고를 출력\n",
    "print(\"### 붕어빵 현재 재고 ###\")\n",
    "for flavor, count in fish_bread.items():\n",
    "    print(f\"- {flavor}: {count}개\")"
   ]
  },
  {
   "cell_type": "markdown",
   "metadata": {},
   "source": [
    "__[문제 2: 붕어빵 주문 받기]__\n",
    "\n",
    "손님이 주문한 붕어빵의 종류와 개수를 입력받는 기능을 구현하세요.\n",
    "\n",
    "요구사항:\n",
    "- 손님이 주문할 붕어빵의 종류와 개수를 입력받습니다.\n",
    "- 주문 내용을 딕셔너리에 저장하세요.\n",
    "- 주문 내역을 출력해주세요."
   ]
  },
  {
   "cell_type": "code",
   "execution_count": null,
   "metadata": {},
   "outputs": [],
   "source": [
    "# 붕어빵 주문을 저장할 딕셔너리 초기화\n",
    "order = {}\n",
    "\n",
    "print(\"붕어빵 주문을 시작합니다. (주문을 마치려면 '종료'를 입력하세요)\")\n",
    "\n",
    "while True:\n",
    "    # 붕어빵 종류 입력\n",
    "    fish_bread_type = input(\"주문할 붕어빵 종류를 입력하세요: \")\n",
    "\n",
    "    # '종료'를 입력하면 주문을 마침\n",
    "    if fish_bread_type == \"종료\":\n",
    "        break\n",
    "\n",
    "    # 붕어빵 개수 입력\n",
    "    try:\n",
    "        count = int(input(f\"{fish_bread_type} 붕어빵의 개수를 입력하세요: \"))\n",
    "        # 0개 이상인 경우에만 주문에 추가\n",
    "        if count > 0:\n",
    "            order[fish_bread_type] = order.get(fish_bread_type, 0) + count\n",
    "        else:\n",
    "            print(\"개수는 1개 이상 입력해야 합니다.\")\n",
    "    except ValueError:\n",
    "        print(\"개수는 숫자로 입력해주세요.\")\n",
    "\n",
    "# 최종 주문 내역 출력\n",
    "print(\"\\n=== 주문 내역 ===\")\n",
    "if order:\n",
    "    for fish_bread_type, count in order.items():\n",
    "        print(f\"{fish_bread_type}: {count}개\")\n",
    "else:\n",
    "    print(\"주문된 붕어빵이 없습니다.\")\n",
    "    \n",
    "#이거 이해하고 실행시키는데 흰머리추가됨"
   ]
  },
  {
   "cell_type": "markdown",
   "metadata": {},
   "source": [
    "__[문제 3: 붕어빵 주문 처리]__\n",
    "\n",
    "손님의 주문을 처리하여 붕어빵 재고를 업데이트하는 기능을 구현하세요.\n",
    "\n",
    "요구사항:\n",
    "- 손님의 주문 내용을 기반으로 재고를 업데이트합니다.\n",
    "- 재고가 부족할 경우, 손님에게 재고 부족을 알리고 재고를 감소시키지 않습니다.\n",
    "- 재고가 충분할 경우, 주문한 만큼 재고를 감소시키고 판매를 완료합니다.\n",
    "- 판매가 완료된 경우 판매된 붕어빵 맛과 개수를 출력하세요."
   ]
  },
  {
   "cell_type": "code",
   "execution_count": null,
   "metadata": {},
   "outputs": [],
   "source": [
    "# 재고 확인 및 처리\n",
    "if order_type in inventory:  # 붕어빵 종류가 재고에 있는지 확인\n",
    "    if inventory[order_type] >= order_count:  # 재고가 충분한지 확인\n",
    "        inventory[order_type] -= order_count\n",
    "        print(f\"{order_type} 붕어빵 {order_count}개가 판매되었습니다.\")\n",
    "        print(f\"남은 재고: {inventory[order_type]}개\")\n",
    "    else:\n",
    "        print(f\"재고가 부족합니다. 현재 {order_type} 붕어빵 재고는 {inventory[order_type]}개입니다.\")\n",
    "else:\n",
    "    print(f\"죄송합니다. {order_type} 붕어빵은 판매하지 않습니다.\")"
   ]
  },
  {
   "cell_type": "markdown",
   "metadata": {},
   "source": [
    "__[문제 4: 여러 손님 주문 처리]__\n",
    "\n",
    "여러 손님들의 주문을 처리할 수 있도록 시스템을 확장하세요.\n",
    "\n",
    "요구사항:\n",
    "- 손님이 \"종료\"를 입력할 때까지 주문을 계속 받습니다.\n",
    "- 각 주문마다 재고를 업데이트합니다.\n",
    "- 현재 재고를 화면에 출력합니다."
   ]
  },
  {
   "cell_type": "code",
   "execution_count": null,
   "metadata": {},
   "outputs": [],
   "source": [
    "while True:\n",
    "    order_type = input(\"주문할 붕어빵 종류를 입력하세요 (단팥 또는 슈크림, 종료하려면 '종료' 입력): \")\n",
    "\n",
    "    if order_type == \"종료\":\n",
    "        print(\"주문을 종료합니다.\")\n",
    "        break\n",
    "    \n",
    "    order_count_str = input(f\"{order_type} 붕어빵 몇 개를 주문하시겠습니까?: \")\n",
    "    \n",
    "    if not order_count_str.isdigit():\n",
    "        print(\"잘못된 입력입니다. 숫자를 입력해주세요.\")\n",
    "        continue\n",
    "\n",
    "    order_count = int(order_count_str)\n",
    "    \n",
    "    if order_type in inventory:\n",
    "        if inventory[order_type] >= order_count:\n",
    "            inventory[order_type] -= order_count\n",
    "            print(f\"{order_type} 붕어빵 {order_count}개가 판매되었습니다.\")\n",
    "            print(f\"남은 재고: {inventory[order_type]}개\")\n",
    "        else:\n",
    "            print(f\"재고가 부족합니다. 현재 {order_type} 붕어빵 재고는 {inventory[order_type]}개입니다.\")\n",
    "    else:\n",
    "        print(f\"죄송합니다. {order_type} 붕어빵은 판매하지 않습니다.\")\n"
   ]
  },
  {
   "cell_type": "markdown",
   "metadata": {},
   "source": [
    "__[문제 5: 관리자 모드]__\n",
    "\n",
    "관리자 모드를 통해 붕어빵 재고를 추가할 수 있는 기능을 구현하세요.\n",
    "\n",
    "요구사항:\n",
    "- 관리자는 특정 붕어빵의 재고를 추가할 수 있습니다.\n",
    "- \"종료\"를 입력하면 관리자 모드를 종료합니다.\n",
    "- 추가된 재고를 업데이트하고 현재 재고를 화면에 출력합니다."
   ]
  },
  {
   "cell_type": "code",
   "execution_count": null,
   "metadata": {},
   "outputs": [],
   "source": [
    "def admin_mode(stock):\n",
    "    \"\"\"\n",
    "    관리자 모드를 통해 붕어빵 재고를 추가하는 함수.\n",
    "    \n",
    "    :param stock: 붕어빵 재고를 담고 있는 딕셔너리.\n",
    "    \"\"\"\n",
    "    print(\"관리자 모드: 붕어빵 재고를 추가하세요. '종료'를 입력하면 종료됩니다.\")\n",
    "    while True:\n",
    "        print(\"\\n=== 현재 붕어빵 재고 ===\")\n",
    "        for fish, count in stock.items():\n",
    "            print(f\"{fish}: {count}개\")\n",
    "        print(\"=======================\")\n",
    "\n",
    "        fish_type = input(\"재고를 추가할 붕어빵 종류를 입력하세요: \").strip()\n",
    "        \n",
    "        if fish_type == \"종료\":\n",
    "            print(\"관리자 모드를 종료합니다.\")\n",
    "            break\n",
    "        \n",
    "        if fish_type not in stock:\n",
    "            print(\"존재하지 않는 붕어빵 종류입니다. 다시 입력해주세요.\")\n",
    "            continue\n",
    "            \n",
    "        try:\n",
    "            quantity_to_add = int(input(f\"{fish_type}에 추가할 재고 수량을 입력하세요: \"))\n",
    "            if quantity_to_add <= 0:\n",
    "                print(\"재고는 1개 이상 추가해야 합니다.\")\n",
    "                continue\n",
    "            \n",
    "            stock[fish_type] += quantity_to_add\n",
    "            print(f\"{fish_type} 재고 {quantity_to_add}개가 성공적으로 추가되었습니다.\")\n",
    "            \n",
    "        except ValueError:\n",
    "            print(\"잘못된 입력입니다. 숫자를 입력해주세요.\")"
   ]
  },
  {
   "cell_type": "markdown",
   "metadata": {},
   "source": [
    "__[문제 6: 매출 확인]__\n",
    "\n",
    "붕어빵 판매 가격을 설정하고, 판매한 붕어빵의 매출을 계산하세요.\n",
    "\n",
    "요구사항:\n",
    "- 각 붕어빵의 가격을 딕셔너리로 관리합니다.\n",
    "- 판매된 붕어빵의 종류와 개수를 딕셔너리로 관리합니다.\n",
    "- 총 매출을 계산하여 출력합니다.\n",
    "\n",
    "초기 설정:\n",
    "- 가격\n",
    "    - \"팥붕어빵\": 1000\n",
    "    - \"슈크림붕어빵\": 1200\n",
    "    - \"초코붕어빵\": 1500\n",
    "\n",
    "- 판매 개수\n",
    "    - \"팥붕어빵\": 0\n",
    "    - \"슈크림붕어빵\": 0\n",
    "    - \"초코붕어빵\": 0"
   ]
  },
  {
   "cell_type": "code",
   "execution_count": null,
   "metadata": {},
   "outputs": [],
   "source": [
    "# 붕어빵 가격 설정\n",
    "prices = {\n",
    "    \"팥붕어빵\": 1000,\n",
    "    \"슈크림붕어빵\": 1200,\n",
    "    \"초코붕어빵\": 1500\n",
    "}\n",
    "\n",
    "# 판매 개수 초기화\n",
    "sales = {\n",
    "    \"팥붕어빵\": 0,\n",
    "    \"슈크림붕어빵\": 0,\n",
    "    \"초코붕어빵\": 0\n",
    "}\n",
    "\n",
    "# 총 매출 계산\n",
    "total_sales = 0\n",
    "for fish_type, price in prices.items():\n",
    "    if fish_type in sales:\n",
    "        total_sales += price * sales[fish_type]\n",
    "\n",
    "# 총 매출 출력\n",
    "print(f\"총 매출: {total_sales}원\")"
   ]
  }
 ],
 "metadata": {
  "colab": {
   "authorship_tag": "ABX9TyMLQjyUmELFyKkx1AyovOFZ",
   "provenance": []
  },
  "kernelspec": {
   "display_name": "Python 3",
   "name": "python3"
  },
  "language_info": {
   "codemirror_mode": {
    "name": "ipython",
    "version": 3
   },
   "file_extension": ".py",
   "mimetype": "text/x-python",
   "name": "python",
   "nbconvert_exporter": "python",
   "pygments_lexer": "ipython3",
   "version": "3.11.7"
  }
 },
 "nbformat": 4,
 "nbformat_minor": 0
}
